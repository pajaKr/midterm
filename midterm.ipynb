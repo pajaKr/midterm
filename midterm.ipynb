{
 "cells": [
  {
   "cell_type": "markdown",
   "id": "b6164cfa",
   "metadata": {},
   "source": [
    "# JEM207 midterm"
   ]
  },
  {
   "cell_type": "markdown",
   "id": "2631eafc",
   "metadata": {},
   "source": [
    "### Midterm 5.4.2022"
   ]
  },
  {
   "cell_type": "code",
   "execution_count": 5,
   "id": "7e41c1ce",
   "metadata": {},
   "outputs": [],
   "source": [
    "#packages that might come in handy\n",
    "import requests\n",
    "import json\n",
    "import pandas as pd\n",
    "import numpy as np\n",
    "import matplotlib.pyplot as plt\n",
    "from bs4 import BeautifulSoup\n",
    "import time\n",
    "import os\n",
    "from IPython.core.display import HTML, display\n",
    "idx = pd.IndexSlice"
   ]
  },
  {
   "cell_type": "code",
   "execution_count": null,
   "id": "4a8ac34b",
   "metadata": {},
   "outputs": [],
   "source": []
  }
 ],
 "metadata": {
  "kernelspec": {
   "display_name": "Python 3 (ipykernel)",
   "language": "python",
   "name": "python3"
  },
  "language_info": {
   "codemirror_mode": {
    "name": "ipython",
    "version": 3
   },
   "file_extension": ".py",
   "mimetype": "text/x-python",
   "name": "python",
   "nbconvert_exporter": "python",
   "pygments_lexer": "ipython3",
   "version": "3.8.12"
  }
 },
 "nbformat": 4,
 "nbformat_minor": 5
}
