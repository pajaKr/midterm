{
 "cells": [
  {
   "cell_type": "markdown",
   "id": "b6164cfa",
   "metadata": {},
   "source": [
    "# JEM207 midterm"
   ]
  },
  {
   "cell_type": "markdown",
   "id": "d0570a62",
   "metadata": {},
   "source": [
    "### Midterm 5.4.2022"
   ]
  },
  {
   "cell_type": "code",
   "execution_count": 2,
   "id": "7e41c1ce",
   "metadata": {},
   "outputs": [],
   "source": [
    "#packages that might come in handy\n",
    "import requests\n",
    "import json\n",
    "import pandas as pd\n",
    "import numpy as np\n",
    "import matplotlib.pyplot as plt\n",
    "from bs4 import BeautifulSoup\n",
    "import time\n",
    "import os\n",
    "#from IPython.core.display import HTML, display\n",
    "idx = pd.IndexSlice"
   ]
  },
  {
   "cell_type": "markdown",
   "id": "3c4be56c",
   "metadata": {},
   "source": [
    "### Part One"
   ]
  },
  {
   "cell_type": "code",
   "execution_count": 10,
   "id": "7eb0ce97",
   "metadata": {},
   "outputs": [
    {
     "name": "stdout",
     "output_type": "stream",
     "text": [
      "{'data': {'personal_code': '7bb6510e', 'dataset_ids': ['95ff551368', '40bb66faec', '86c214b421', 'f45ec2e9fc', '64a5d99db0', '24f88cb68c', 'e2beb850b2', '8c34bdfc03', '11f651d1ee']}, 'message': 'Hello, Křenková Pavlína! Good luck with the midterm. GET your data set from /data/file_id endpoint; use the codes you received in the data response as the file_id parameter! Print the personal code in your notebook.'}\n",
      "my personal code: 7bb6510e\n"
     ]
    },
    {
     "data": {
      "text/plain": [
       "['95ff551368',\n",
       " '40bb66faec',\n",
       " '86c214b421',\n",
       " 'f45ec2e9fc',\n",
       " '64a5d99db0',\n",
       " '24f88cb68c',\n",
       " 'e2beb850b2',\n",
       " '8c34bdfc03',\n",
       " '11f651d1ee']"
      ]
     },
     "execution_count": 10,
     "metadata": {},
     "output_type": "execute_result"
    }
   ],
   "source": [
    "link = 'https://ies-midterm.soulution.rocks/'\n",
    "\n",
    "endpoint = 'login'\n",
    "my_number = {\"cuni\": \"98698413\"}\n",
    "r = requests.post(f'{link}{endpoint}', json = my_number).json()\n",
    "print(r)\n",
    "print(\"my personal code:\", r['data']['personal_code'])\n",
    "dataset_ids = r['data']['dataset_ids']\n",
    "dataset_ids"
   ]
  },
  {
   "cell_type": "code",
   "execution_count": 55,
   "id": "c2b376f9",
   "metadata": {},
   "outputs": [],
   "source": [
    "endpoint = 'data/'\n",
    "data_list = []\n",
    "for code in dataset_ids:\n",
    "    req = requests.get(f'{link}{endpoint}{code}')\n",
    "    while req.status_code != 200:\n",
    "        req = requests.get(f'{link}{endpoint}{code}')\n",
    "    data_list.append(req.json())\n",
    "#data_list[0] #to see the structure"
   ]
  },
  {
   "cell_type": "code",
   "execution_count": 18,
   "id": "6e3da5d6",
   "metadata": {},
   "outputs": [
    {
     "name": "stdout",
     "output_type": "stream",
     "text": [
      "Columns are in order Date,Open,High,Low,Close,Adj.Close,Volume. Make sure your data are ordered.\n"
     ]
    },
    {
     "data": {
      "text/plain": [
       "['AHT', 'GSK', 'TSCO', 'AAL', 'LAND', 'PSN', 'IAG', 'IHG', 'MNG']"
      ]
     },
     "execution_count": 18,
     "metadata": {},
     "output_type": "execute_result"
    }
   ],
   "source": [
    "print(data_list[0]['message'])\n",
    "company_names = []\n",
    "for one_comp in data_list:\n",
    "    company_names.append(one_comp['data']['company'])\n",
    "company_names #We have 9 companies"
   ]
  },
  {
   "cell_type": "markdown",
   "id": "92dd2975",
   "metadata": {},
   "source": [
    "### Part 2"
   ]
  },
  {
   "cell_type": "code",
   "execution_count": 39,
   "id": "09e6c060",
   "metadata": {},
   "outputs": [
    {
     "data": {
      "text/html": [
       "<div>\n",
       "<style scoped>\n",
       "    .dataframe tbody tr th:only-of-type {\n",
       "        vertical-align: middle;\n",
       "    }\n",
       "\n",
       "    .dataframe tbody tr th {\n",
       "        vertical-align: top;\n",
       "    }\n",
       "\n",
       "    .dataframe thead th {\n",
       "        text-align: right;\n",
       "    }\n",
       "</style>\n",
       "<table border=\"1\" class=\"dataframe\">\n",
       "  <thead>\n",
       "    <tr style=\"text-align: right;\">\n",
       "      <th></th>\n",
       "      <th></th>\n",
       "      <th>AHT</th>\n",
       "      <th>GSK</th>\n",
       "      <th>TSCO</th>\n",
       "      <th>AAL</th>\n",
       "      <th>LAND</th>\n",
       "      <th>PSN</th>\n",
       "      <th>IAG</th>\n",
       "      <th>IHG</th>\n",
       "      <th>MNG</th>\n",
       "    </tr>\n",
       "    <tr>\n",
       "      <th>Date</th>\n",
       "      <th></th>\n",
       "      <th></th>\n",
       "      <th></th>\n",
       "      <th></th>\n",
       "      <th></th>\n",
       "      <th></th>\n",
       "      <th></th>\n",
       "      <th></th>\n",
       "      <th></th>\n",
       "      <th></th>\n",
       "    </tr>\n",
       "  </thead>\n",
       "  <tbody>\n",
       "    <tr>\n",
       "      <th rowspan=\"5\" valign=\"top\">2019-01-02</th>\n",
       "      <th>Adj.Close</th>\n",
       "      <td>3.726602e+01</td>\n",
       "      <td>3.432425e+01</td>\n",
       "      <td>8.010709e+01</td>\n",
       "      <td>3.196316e+01</td>\n",
       "      <td>10.799848</td>\n",
       "      <td>NaN</td>\n",
       "      <td>3.69</td>\n",
       "      <td>51.824001</td>\n",
       "      <td>36.660000</td>\n",
       "    </tr>\n",
       "    <tr>\n",
       "      <th>Close</th>\n",
       "      <td>4.061265e+01</td>\n",
       "      <td>3.788000e+01</td>\n",
       "      <td>8.223000e+01</td>\n",
       "      <td>3.248000e+01</td>\n",
       "      <td>11.700000</td>\n",
       "      <td>NaN</td>\n",
       "      <td>3.69</td>\n",
       "      <td>56.438354</td>\n",
       "      <td>36.660000</td>\n",
       "    </tr>\n",
       "    <tr>\n",
       "      <th>High</th>\n",
       "      <td>4.090909e+01</td>\n",
       "      <td>3.811000e+01</td>\n",
       "      <td>8.401000e+01</td>\n",
       "      <td>3.265000e+01</td>\n",
       "      <td>11.750000</td>\n",
       "      <td>NaN</td>\n",
       "      <td>3.76</td>\n",
       "      <td>56.902000</td>\n",
       "      <td>36.810001</td>\n",
       "    </tr>\n",
       "    <tr>\n",
       "      <th>Low</th>\n",
       "      <td>3.863636e+01</td>\n",
       "      <td>3.760000e+01</td>\n",
       "      <td>8.086000e+01</td>\n",
       "      <td>3.105000e+01</td>\n",
       "      <td>11.190000</td>\n",
       "      <td>NaN</td>\n",
       "      <td>3.60</td>\n",
       "      <td>55.732349</td>\n",
       "      <td>34.709999</td>\n",
       "    </tr>\n",
       "    <tr>\n",
       "      <th>Open</th>\n",
       "      <td>3.903162e+01</td>\n",
       "      <td>3.777000e+01</td>\n",
       "      <td>8.181000e+01</td>\n",
       "      <td>3.146000e+01</td>\n",
       "      <td>11.450000</td>\n",
       "      <td>NaN</td>\n",
       "      <td>3.68</td>\n",
       "      <td>56.817703</td>\n",
       "      <td>35.630001</td>\n",
       "    </tr>\n",
       "    <tr>\n",
       "      <th>...</th>\n",
       "      <th>...</th>\n",
       "      <td>...</td>\n",
       "      <td>...</td>\n",
       "      <td>...</td>\n",
       "      <td>...</td>\n",
       "      <td>...</td>\n",
       "      <td>...</td>\n",
       "      <td>...</td>\n",
       "      <td>...</td>\n",
       "      <td>...</td>\n",
       "    </tr>\n",
       "    <tr>\n",
       "      <th rowspan=\"5\" valign=\"top\">2020-11-20</th>\n",
       "      <th>Close</th>\n",
       "      <td>4.000000e+00</td>\n",
       "      <td>3.703000e+01</td>\n",
       "      <td>1.297000e+02</td>\n",
       "      <td>1.253000e+01</td>\n",
       "      <td>15.030000</td>\n",
       "      <td>31.750000</td>\n",
       "      <td>3.41</td>\n",
       "      <td>59.669998</td>\n",
       "      <td>26.840000</td>\n",
       "    </tr>\n",
       "    <tr>\n",
       "      <th>High</th>\n",
       "      <td>4.690000e+00</td>\n",
       "      <td>3.720000e+01</td>\n",
       "      <td>1.314000e+02</td>\n",
       "      <td>1.291000e+01</td>\n",
       "      <td>15.100000</td>\n",
       "      <td>32.147999</td>\n",
       "      <td>3.51</td>\n",
       "      <td>60.130001</td>\n",
       "      <td>27.170000</td>\n",
       "    </tr>\n",
       "    <tr>\n",
       "      <th>Low</th>\n",
       "      <td>3.910000e+00</td>\n",
       "      <td>3.688000e+01</td>\n",
       "      <td>1.284200e+02</td>\n",
       "      <td>1.246000e+01</td>\n",
       "      <td>14.850000</td>\n",
       "      <td>31.575001</td>\n",
       "      <td>3.40</td>\n",
       "      <td>59.549999</td>\n",
       "      <td>26.650000</td>\n",
       "    </tr>\n",
       "    <tr>\n",
       "      <th>Open</th>\n",
       "      <td>4.460000e+00</td>\n",
       "      <td>3.714000e+01</td>\n",
       "      <td>1.300500e+02</td>\n",
       "      <td>1.280000e+01</td>\n",
       "      <td>14.960000</td>\n",
       "      <td>32.070000</td>\n",
       "      <td>3.42</td>\n",
       "      <td>59.930000</td>\n",
       "      <td>26.940001</td>\n",
       "    </tr>\n",
       "    <tr>\n",
       "      <th>Volume</th>\n",
       "      <td>2.201800e+06</td>\n",
       "      <td>4.273900e+06</td>\n",
       "      <td>1.324500e+06</td>\n",
       "      <td>5.849110e+07</td>\n",
       "      <td>195800.000000</td>\n",
       "      <td>347700.000000</td>\n",
       "      <td>6329600.00</td>\n",
       "      <td>100500.000000</td>\n",
       "      <td>0.000000</td>\n",
       "    </tr>\n",
       "  </tbody>\n",
       "</table>\n",
       "<p>2868 rows × 9 columns</p>\n",
       "</div>"
      ],
      "text/plain": [
       "                               AHT           GSK          TSCO           AAL  \\\n",
       "Date                                                                           \n",
       "2019-01-02 Adj.Close  3.726602e+01  3.432425e+01  8.010709e+01  3.196316e+01   \n",
       "           Close      4.061265e+01  3.788000e+01  8.223000e+01  3.248000e+01   \n",
       "           High       4.090909e+01  3.811000e+01  8.401000e+01  3.265000e+01   \n",
       "           Low        3.863636e+01  3.760000e+01  8.086000e+01  3.105000e+01   \n",
       "           Open       3.903162e+01  3.777000e+01  8.181000e+01  3.146000e+01   \n",
       "...                            ...           ...           ...           ...   \n",
       "2020-11-20 Close      4.000000e+00  3.703000e+01  1.297000e+02  1.253000e+01   \n",
       "           High       4.690000e+00  3.720000e+01  1.314000e+02  1.291000e+01   \n",
       "           Low        3.910000e+00  3.688000e+01  1.284200e+02  1.246000e+01   \n",
       "           Open       4.460000e+00  3.714000e+01  1.300500e+02  1.280000e+01   \n",
       "           Volume     2.201800e+06  4.273900e+06  1.324500e+06  5.849110e+07   \n",
       "\n",
       "                               LAND            PSN         IAG            IHG  \\\n",
       "Date                                                                            \n",
       "2019-01-02 Adj.Close      10.799848            NaN        3.69      51.824001   \n",
       "           Close          11.700000            NaN        3.69      56.438354   \n",
       "           High           11.750000            NaN        3.76      56.902000   \n",
       "           Low            11.190000            NaN        3.60      55.732349   \n",
       "           Open           11.450000            NaN        3.68      56.817703   \n",
       "...                             ...            ...         ...            ...   \n",
       "2020-11-20 Close          15.030000      31.750000        3.41      59.669998   \n",
       "           High           15.100000      32.147999        3.51      60.130001   \n",
       "           Low            14.850000      31.575001        3.40      59.549999   \n",
       "           Open           14.960000      32.070000        3.42      59.930000   \n",
       "           Volume     195800.000000  347700.000000  6329600.00  100500.000000   \n",
       "\n",
       "                            MNG  \n",
       "Date                             \n",
       "2019-01-02 Adj.Close  36.660000  \n",
       "           Close      36.660000  \n",
       "           High       36.810001  \n",
       "           Low        34.709999  \n",
       "           Open       35.630001  \n",
       "...                         ...  \n",
       "2020-11-20 Close      26.840000  \n",
       "           High       27.170000  \n",
       "           Low        26.650000  \n",
       "           Open       26.940001  \n",
       "           Volume      0.000000  \n",
       "\n",
       "[2868 rows x 9 columns]"
      ]
     },
     "execution_count": 39,
     "metadata": {},
     "output_type": "execute_result"
    }
   ],
   "source": [
    "#creating the dataframe\n",
    "def Create_PD_series(json1):\n",
    "    json2 = pd.read_json(json.dumps(json1['data']['data']))\n",
    "    json2.columns =['Date','Open','High','Low','Close','Adj.Close','Volume'] #from message\n",
    "    json2 = json2.set_index('Date')\n",
    "    json2 = json2.stack()\n",
    "    return json2\n",
    "series_list = []\n",
    "for x in data_list:\n",
    "    series_list.append(Create_PD_series(x))\n",
    "df = pd.concat(series_list, axis = 1)\n",
    "df.columns = company_names\n",
    "df"
   ]
  },
  {
   "cell_type": "code",
   "execution_count": 54,
   "id": "30f6901c",
   "metadata": {},
   "outputs": [
    {
     "name": "stdout",
     "output_type": "stream",
     "text": [
      "AHT       0\n",
      "GSK       0\n",
      "TSCO      0\n",
      "AAL       0\n",
      "LAND      0\n",
      "PSN     522\n",
      "IAG       0\n",
      "IHG       0\n",
      "MNG       0\n",
      "dtype: int64\n"
     ]
    },
    {
     "data": {
      "text/plain": [
       "{'2019-01-02',\n",
       " '2019-01-03',\n",
       " '2019-01-04',\n",
       " '2019-01-07',\n",
       " '2019-01-08',\n",
       " '2019-01-09',\n",
       " '2019-01-10',\n",
       " '2019-01-11',\n",
       " '2019-01-14',\n",
       " '2019-01-15',\n",
       " '2019-01-16',\n",
       " '2019-01-17',\n",
       " '2019-01-18',\n",
       " '2019-01-22',\n",
       " '2019-01-23',\n",
       " '2019-01-24',\n",
       " '2019-01-25',\n",
       " '2019-01-28',\n",
       " '2019-01-29',\n",
       " '2019-01-30',\n",
       " '2019-01-31',\n",
       " '2019-02-01',\n",
       " '2019-02-04',\n",
       " '2019-02-05',\n",
       " '2019-02-06',\n",
       " '2019-02-07',\n",
       " '2019-02-08',\n",
       " '2019-02-11',\n",
       " '2019-02-12',\n",
       " '2019-02-13',\n",
       " '2019-02-14',\n",
       " '2019-02-15',\n",
       " '2019-02-19',\n",
       " '2019-02-20',\n",
       " '2019-02-21',\n",
       " '2019-02-22',\n",
       " '2019-02-25',\n",
       " '2019-02-26',\n",
       " '2019-02-27',\n",
       " '2019-02-28',\n",
       " '2019-03-01',\n",
       " '2019-03-04',\n",
       " '2019-03-05',\n",
       " '2019-03-06',\n",
       " '2019-03-07',\n",
       " '2019-03-08',\n",
       " '2019-03-11',\n",
       " '2019-03-12',\n",
       " '2019-03-13',\n",
       " '2019-03-14',\n",
       " '2019-03-15',\n",
       " '2019-03-18',\n",
       " '2019-03-19',\n",
       " '2019-03-20',\n",
       " '2019-03-21',\n",
       " '2019-03-22',\n",
       " '2019-03-25',\n",
       " '2019-03-26',\n",
       " '2019-03-27',\n",
       " '2019-03-28',\n",
       " '2019-03-29',\n",
       " '2019-04-01',\n",
       " '2019-04-02',\n",
       " '2019-04-03',\n",
       " '2019-04-04',\n",
       " '2019-04-05',\n",
       " '2019-04-08',\n",
       " '2019-04-09',\n",
       " '2019-04-10',\n",
       " '2019-04-11',\n",
       " '2019-04-12',\n",
       " '2019-04-15',\n",
       " '2019-04-16',\n",
       " '2019-04-17',\n",
       " '2019-04-18',\n",
       " '2019-04-22',\n",
       " '2019-04-23',\n",
       " '2019-04-24',\n",
       " '2019-04-25',\n",
       " '2019-04-26',\n",
       " '2019-04-29',\n",
       " '2019-04-30',\n",
       " '2019-05-01',\n",
       " '2019-05-02',\n",
       " '2019-05-03',\n",
       " '2019-05-06',\n",
       " '2019-05-07'}"
      ]
     },
     "execution_count": 54,
     "metadata": {},
     "output_type": "execute_result"
    }
   ],
   "source": [
    "#The time series should be from 2019-01-02 to 2020-11-20. Is it the case in your sample? Which dates are missing? \n",
    "print(df.isna().sum())\n",
    "#PSN has missin values, otherwise it seems to hold\n",
    "indexes_missing = df[df['PSN'].isna()].index.tolist()\n",
    "dates_missing = []\n",
    "for one_index in indexes_missing:\n",
    "    dates_missing.append(one_index[0])\n",
    "set(dates_missing) #the missing days"
   ]
  },
  {
   "cell_type": "code",
   "execution_count": 47,
   "id": "3e7e7573",
   "metadata": {},
   "outputs": [
    {
     "data": {
      "text/plain": [
       "{'AHT': '2020-11-09',\n",
       " 'GSK': '2020-02-28',\n",
       " 'TSCO': '2019-01-31',\n",
       " 'AAL': '2020-06-05',\n",
       " 'LAND': '2019-06-20',\n",
       " 'PSN': '2019-05-08',\n",
       " 'IAG': '2020-02-24',\n",
       " 'IHG': '2020-03-26',\n",
       " 'MNG': '2019-01-02'}"
      ]
     },
     "execution_count": 47,
     "metadata": {},
     "output_type": "execute_result"
    }
   ],
   "source": [
    "#What day was the highest number of shares traded?\n",
    "volume_df = df.loc[idx[:,'Volume',:]]\n",
    "volume_df = volume_df.reset_index().set_index('Date')\n",
    "volume_df.drop('level_1', axis = 1, inplace = True)\n",
    "volume_df\n",
    "highest_shares_day = {}\n",
    "for company in company_names:\n",
    "    highest_shares_day[company] = volume_df[company].idxmax()\n",
    "highest_shares_day"
   ]
  },
  {
   "cell_type": "code",
   "execution_count": 42,
   "id": "8219d951",
   "metadata": {},
   "outputs": [
    {
     "name": "stdout",
     "output_type": "stream",
     "text": [
      "The maxima: {'AHT': 52.77835464477539, 'GSK': 45.580257415771484, 'TSCO': 154.15875244140625, 'AAL': 36.44142532348633, 'LAND': 16.302597045898438, 'PSN': 45.029998779296875, 'IAG': 5.199999809265137, 'IHG': 68.31763458251953, 'MNG': 45.31999969482422}\n",
      "{'AHT': 1.2899999618530273, 'GSK': 30.737220764160156, 'TSCO': 66.76319885253906, 'AAL': 9.039999961853027, 'LAND': 9.38074779510498, 'PSN': 25.309999465942383, 'IAG': 1.8799999952316284, 'IHG': 27.81444549560547, 'MNG': 14.930000305175781}\n"
     ]
    }
   ],
   "source": [
    "#What is the highest and lowest Adj Close price the company recorded? \n",
    "Adj_Close_max = {}\n",
    "Adj_Close_min = {}\n",
    "for company in company_names:\n",
    "    Adj_Close_max[company] = df.loc[idx[:,'Adj.Close',:]][company].max()\n",
    "    Adj_Close_min[company] = df.loc[idx[:,'Adj.Close',:]][company].min()\n",
    "print(\"The maxima:\", Adj_Close_max) #the maxima per company\n",
    "print(\"The minima:\", Adj_Close_min) #the minima per company"
   ]
  },
  {
   "cell_type": "code",
   "execution_count": 48,
   "id": "c7aab72c",
   "metadata": {},
   "outputs": [
    {
     "data": {
      "text/plain": [
       "{'AHT': 337725200.0,\n",
       " 'GSK': 1555416200.0,\n",
       " 'TSCO': 682972700.0,\n",
       " 'AAL': 16640483900.0,\n",
       " 'LAND': 67274000.0,\n",
       " 'PSN': 168647400.0,\n",
       " 'IAG': 2633248000.0,\n",
       " 'IHG': 111270300.0,\n",
       " 'MNG': 0.0}"
      ]
     },
     "execution_count": 48,
     "metadata": {},
     "output_type": "execute_result"
    }
   ],
   "source": [
    "#What is the sum of shares traded in your sample?\n",
    "sum_of_shares = {}\n",
    "for company in company_names:\n",
    "    sum_of_shares[company] = volume_df[company].sum()\n",
    "sum_of_shares"
   ]
  },
  {
   "cell_type": "code",
   "execution_count": 64,
   "id": "66c4008b",
   "metadata": {},
   "outputs": [
    {
     "data": {
      "text/plain": [
       "<AxesSubplot:xlabel='Date'>"
      ]
     },
     "execution_count": 64,
     "metadata": {},
     "output_type": "execute_result"
    },
    {
     "data": {
      "image/png": "[encoded data removed]",
      "text/plain": [
       "<Figure size 432x288 with 1 Axes>"
      ]
     },
     "metadata": {
      "needs_background": "light"
     },
     "output_type": "display_data"
    }
   ],
   "source": [
    "#Create a single object with Adjusted Close prices, plot them together in one time series plot\n",
    "AdjClose_df = df.loc[idx[:,'Adj.Close',:]]\n",
    "AdjClose_df = AdjClose_df.reset_index().set_index('Date')\n",
    "AdjClose_df.drop('level_1', axis = 1, inplace = True)\n",
    "AdjClose_df.plot()"
   ]
  }
 ],
 "metadata": {
  "kernelspec": {
   "display_name": "Python 3 (ipykernel)",
   "language": "python",
   "name": "python3"
  },
  "language_info": {
   "codemirror_mode": {
    "name": "ipython",
    "version": 3
   },
   "file_extension": ".py",
   "mimetype": "text/x-python",
   "name": "python",
   "nbconvert_exporter": "python",
   "pygments_lexer": "ipython3",
   "version": "3.8.12"
  }
 },
 "nbformat": 4,
 "nbformat_minor": 5
}
